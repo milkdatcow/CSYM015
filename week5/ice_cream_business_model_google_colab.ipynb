{
  "cells": [
    {
      "cell_type": "markdown",
      "metadata": {
        "id": "BdhVVCRuPNCA"
      },
      "source": [
        "\n",
        "# CODE TO PERFORM SIMPLE LINEAR REGRESSION\n",
        "\n",
        "\n",
        "\n",
        "\n"
      ]
    },
    {
      "cell_type": "markdown",
      "metadata": {
        "id": "ZcuRBJFYPNCD"
      },
      "source": [
        "# PROBLEM STATEMENT"
      ]
    },
    {
      "cell_type": "markdown",
      "metadata": {
        "id": "81dtW0YoPNCE"
      },
      "source": [
        "You own an ice cream business and you would like to create a model that could predict the daily revenue in dollars based on the outside air temperature (degC). You decide that a Linear Regression model might be a good candidate to solve this problem.  \n",
        "Data set:\n",
        "- Independant variable X: Outside Air Temperature\n",
        "- Dependant variable Y: Overall daily revenue generated in dollars "
      ]
    },
    {
      "cell_type": "markdown",
      "metadata": {
        "id": "aO_X9re8PNCF"
      },
      "source": [
        "# STEP #1: LIBRARIES IMPORT\n"
      ]
    },
    {
      "cell_type": "code",
      "execution_count": 2,
      "metadata": {
        "id": "AcnifMomPNCG"
      },
      "outputs": [],
      "source": [
        "import pandas as pd\n",
        "import numpy as np\n",
        "import matplotlib.pyplot as plt\n",
        "import seaborn as sns\n",
        "%matplotlib inline"
      ]
    },
    {
      "cell_type": "markdown",
      "metadata": {
        "id": "fEA07mGyPNCG"
      },
      "source": [
        "# STEP #2: IMPORT DATASET"
      ]
    },
    {
      "cell_type": "code",
      "execution_count": 43,
      "metadata": {
        "colab": {
          "base_uri": "https://localhost:8080/"
        },
        "id": "sM3VWVewPXGo",
        "outputId": "9f5c35a4-2587-4b23-c824-09e34a890181"
      },
      "outputs": [
        {
          "name": "stdout",
          "output_type": "stream",
          "text": [
            "Drive already mounted at /content/drive; to attempt to forcibly remount, call drive.mount(\"/content/drive\", force_remount=True).\n"
          ]
        }
      ],
      "source": [
        "from google.colab import drive\n",
        "drive.mount('/content/drive')"
      ]
    },
    {
      "cell_type": "code",
      "execution_count": null,
      "metadata": {
        "colab": {
          "base_uri": "https://localhost:8080/"
        },
        "id": "yi2iUpUjPgfF",
        "outputId": "fa6e3252-74c4-4bf9-a03c-08cc872bacf5"
      },
      "outputs": [
        {
          "ename": "SyntaxError",
          "evalue": "(unicode error) 'unicodeescape' codec can't decode bytes in position 2-3: truncated \\UXXXXXXXX escape (3781718055.py, line 1)",
          "output_type": "error",
          "traceback": [
            "\u001b[1;36m  Cell \u001b[1;32mIn[3], line 1\u001b[1;36m\u001b[0m\n\u001b[1;33m    data_dir = os.path.abspath('C:\\Users\\Dylan Bowyer\\Documents\\GitHub\\CSYM015\\week5\\IceCreamData.csv')\u001b[0m\n\u001b[1;37m                               ^\u001b[0m\n\u001b[1;31mSyntaxError\u001b[0m\u001b[1;31m:\u001b[0m (unicode error) 'unicodeescape' codec can't decode bytes in position 2-3: truncated \\UXXXXXXXX escape\n"
          ]
        }
      ],
      "source": [
        "data_dir = os.path.abspath('week5\\IceCreamData.csv')\n",
        "!ls '/content/drive/My Drive/projects/for-testing'\n"
      ]
    },
    {
      "cell_type": "code",
      "execution_count": 46,
      "metadata": {
        "colab": {
          "base_uri": "https://localhost:8080/"
        },
        "id": "wO2k0vZQPNCH",
        "outputId": "e3cc650c-4e70-499d-9765-624219dcbab3"
      },
      "outputs": [
        {
          "name": "stdout",
          "output_type": "stream",
          "text": [
            "/content/drive/My Drive/projects/for-testing/IceCreamData.csv\n"
          ]
        }
      ],
      "source": [
        "IceCream = pd.read_csv(data_dir)"
      ]
    },
    {
      "cell_type": "code",
      "execution_count": 47,
      "metadata": {
        "colab": {
          "base_uri": "https://localhost:8080/",
          "height": 419
        },
        "id": "JdRO5gFTPNCH",
        "outputId": "88607997-97fe-4bd2-ffad-4b0a2f006814"
      },
      "outputs": [
        {
          "data": {
            "text/html": [
              "<div>\n",
              "<style scoped>\n",
              "    .dataframe tbody tr th:only-of-type {\n",
              "        vertical-align: middle;\n",
              "    }\n",
              "\n",
              "    .dataframe tbody tr th {\n",
              "        vertical-align: top;\n",
              "    }\n",
              "\n",
              "    .dataframe thead th {\n",
              "        text-align: right;\n",
              "    }\n",
              "</style>\n",
              "<table border=\"1\" class=\"dataframe\">\n",
              "  <thead>\n",
              "    <tr style=\"text-align: right;\">\n",
              "      <th></th>\n",
              "      <th>Temperature</th>\n",
              "      <th>Revenue</th>\n",
              "    </tr>\n",
              "  </thead>\n",
              "  <tbody>\n",
              "    <tr>\n",
              "      <th>0</th>\n",
              "      <td>24.566884</td>\n",
              "      <td>534.799028</td>\n",
              "    </tr>\n",
              "    <tr>\n",
              "      <th>1</th>\n",
              "      <td>26.005191</td>\n",
              "      <td>625.190122</td>\n",
              "    </tr>\n",
              "    <tr>\n",
              "      <th>2</th>\n",
              "      <td>27.790554</td>\n",
              "      <td>660.632289</td>\n",
              "    </tr>\n",
              "    <tr>\n",
              "      <th>3</th>\n",
              "      <td>20.595335</td>\n",
              "      <td>487.706960</td>\n",
              "    </tr>\n",
              "    <tr>\n",
              "      <th>4</th>\n",
              "      <td>11.503498</td>\n",
              "      <td>316.240194</td>\n",
              "    </tr>\n",
              "    <tr>\n",
              "      <th>...</th>\n",
              "      <td>...</td>\n",
              "      <td>...</td>\n",
              "    </tr>\n",
              "    <tr>\n",
              "      <th>95</th>\n",
              "      <td>9.018860</td>\n",
              "      <td>212.591740</td>\n",
              "    </tr>\n",
              "    <tr>\n",
              "      <th>96</th>\n",
              "      <td>20.265012</td>\n",
              "      <td>474.749392</td>\n",
              "    </tr>\n",
              "    <tr>\n",
              "      <th>97</th>\n",
              "      <td>19.363153</td>\n",
              "      <td>460.402500</td>\n",
              "    </tr>\n",
              "    <tr>\n",
              "      <th>98</th>\n",
              "      <td>14.685945</td>\n",
              "      <td>343.362905</td>\n",
              "    </tr>\n",
              "    <tr>\n",
              "      <th>99</th>\n",
              "      <td>9.954357</td>\n",
              "      <td>283.834327</td>\n",
              "    </tr>\n",
              "  </tbody>\n",
              "</table>\n",
              "<p>100 rows × 2 columns</p>\n",
              "</div>"
            ],
            "text/plain": [
              "    Temperature     Revenue\n",
              "0     24.566884  534.799028\n",
              "1     26.005191  625.190122\n",
              "2     27.790554  660.632289\n",
              "3     20.595335  487.706960\n",
              "4     11.503498  316.240194\n",
              "..          ...         ...\n",
              "95     9.018860  212.591740\n",
              "96    20.265012  474.749392\n",
              "97    19.363153  460.402500\n",
              "98    14.685945  343.362905\n",
              "99     9.954357  283.834327\n",
              "\n",
              "[100 rows x 2 columns]"
            ]
          },
          "execution_count": 47,
          "metadata": {
            "tags": []
          },
          "output_type": "execute_result"
        }
      ],
      "source": [
        "IceCream.head(100)"
      ]
    },
    {
      "cell_type": "code",
      "execution_count": 48,
      "metadata": {
        "colab": {
          "base_uri": "https://localhost:8080/",
          "height": 204
        },
        "id": "FICRAQ38PNCI",
        "outputId": "f1292750-21f4-40cd-a2b4-94dae4b2d0ae",
        "scrolled": true
      },
      "outputs": [
        {
          "data": {
            "text/html": [
              "<div>\n",
              "<style scoped>\n",
              "    .dataframe tbody tr th:only-of-type {\n",
              "        vertical-align: middle;\n",
              "    }\n",
              "\n",
              "    .dataframe tbody tr th {\n",
              "        vertical-align: top;\n",
              "    }\n",
              "\n",
              "    .dataframe thead th {\n",
              "        text-align: right;\n",
              "    }\n",
              "</style>\n",
              "<table border=\"1\" class=\"dataframe\">\n",
              "  <thead>\n",
              "    <tr style=\"text-align: right;\">\n",
              "      <th></th>\n",
              "      <th>Temperature</th>\n",
              "      <th>Revenue</th>\n",
              "    </tr>\n",
              "  </thead>\n",
              "  <tbody>\n",
              "    <tr>\n",
              "      <th>495</th>\n",
              "      <td>22.274899</td>\n",
              "      <td>524.746364</td>\n",
              "    </tr>\n",
              "    <tr>\n",
              "      <th>496</th>\n",
              "      <td>32.893092</td>\n",
              "      <td>755.818399</td>\n",
              "    </tr>\n",
              "    <tr>\n",
              "      <th>497</th>\n",
              "      <td>12.588157</td>\n",
              "      <td>306.090719</td>\n",
              "    </tr>\n",
              "    <tr>\n",
              "      <th>498</th>\n",
              "      <td>22.362402</td>\n",
              "      <td>566.217304</td>\n",
              "    </tr>\n",
              "    <tr>\n",
              "      <th>499</th>\n",
              "      <td>28.957736</td>\n",
              "      <td>655.660388</td>\n",
              "    </tr>\n",
              "  </tbody>\n",
              "</table>\n",
              "</div>"
            ],
            "text/plain": [
              "     Temperature     Revenue\n",
              "495    22.274899  524.746364\n",
              "496    32.893092  755.818399\n",
              "497    12.588157  306.090719\n",
              "498    22.362402  566.217304\n",
              "499    28.957736  655.660388"
            ]
          },
          "execution_count": 48,
          "metadata": {
            "tags": []
          },
          "output_type": "execute_result"
        }
      ],
      "source": [
        "IceCream.tail()"
      ]
    },
    {
      "cell_type": "code",
      "execution_count": 49,
      "metadata": {
        "colab": {
          "base_uri": "https://localhost:8080/",
          "height": 297
        },
        "id": "XO_N6KAaPNCI",
        "outputId": "f3928a22-f595-4a24-cb8c-a9bcbddcc7c7"
      },
      "outputs": [
        {
          "data": {
            "text/html": [
              "<div>\n",
              "<style scoped>\n",
              "    .dataframe tbody tr th:only-of-type {\n",
              "        vertical-align: middle;\n",
              "    }\n",
              "\n",
              "    .dataframe tbody tr th {\n",
              "        vertical-align: top;\n",
              "    }\n",
              "\n",
              "    .dataframe thead th {\n",
              "        text-align: right;\n",
              "    }\n",
              "</style>\n",
              "<table border=\"1\" class=\"dataframe\">\n",
              "  <thead>\n",
              "    <tr style=\"text-align: right;\">\n",
              "      <th></th>\n",
              "      <th>Temperature</th>\n",
              "      <th>Revenue</th>\n",
              "    </tr>\n",
              "  </thead>\n",
              "  <tbody>\n",
              "    <tr>\n",
              "      <th>count</th>\n",
              "      <td>500.000000</td>\n",
              "      <td>500.000000</td>\n",
              "    </tr>\n",
              "    <tr>\n",
              "      <th>mean</th>\n",
              "      <td>22.232225</td>\n",
              "      <td>521.570777</td>\n",
              "    </tr>\n",
              "    <tr>\n",
              "      <th>std</th>\n",
              "      <td>8.096388</td>\n",
              "      <td>175.404751</td>\n",
              "    </tr>\n",
              "    <tr>\n",
              "      <th>min</th>\n",
              "      <td>0.000000</td>\n",
              "      <td>10.000000</td>\n",
              "    </tr>\n",
              "    <tr>\n",
              "      <th>25%</th>\n",
              "      <td>17.122258</td>\n",
              "      <td>405.558681</td>\n",
              "    </tr>\n",
              "    <tr>\n",
              "      <th>50%</th>\n",
              "      <td>22.392791</td>\n",
              "      <td>529.368565</td>\n",
              "    </tr>\n",
              "    <tr>\n",
              "      <th>75%</th>\n",
              "      <td>27.740674</td>\n",
              "      <td>642.257922</td>\n",
              "    </tr>\n",
              "    <tr>\n",
              "      <th>max</th>\n",
              "      <td>45.000000</td>\n",
              "      <td>1000.000000</td>\n",
              "    </tr>\n",
              "  </tbody>\n",
              "</table>\n",
              "</div>"
            ],
            "text/plain": [
              "       Temperature      Revenue\n",
              "count   500.000000   500.000000\n",
              "mean     22.232225   521.570777\n",
              "std       8.096388   175.404751\n",
              "min       0.000000    10.000000\n",
              "25%      17.122258   405.558681\n",
              "50%      22.392791   529.368565\n",
              "75%      27.740674   642.257922\n",
              "max      45.000000  1000.000000"
            ]
          },
          "execution_count": 49,
          "metadata": {
            "tags": []
          },
          "output_type": "execute_result"
        }
      ],
      "source": [
        "IceCream.describe()"
      ]
    },
    {
      "cell_type": "code",
      "execution_count": 50,
      "metadata": {
        "colab": {
          "base_uri": "https://localhost:8080/"
        },
        "id": "vcCdVGm0PNCJ",
        "outputId": "cba73f9b-bc89-4a21-f281-27959691e36e",
        "scrolled": true
      },
      "outputs": [
        {
          "name": "stdout",
          "output_type": "stream",
          "text": [
            "<class 'pandas.core.frame.DataFrame'>\n",
            "RangeIndex: 500 entries, 0 to 499\n",
            "Data columns (total 2 columns):\n",
            " #   Column       Non-Null Count  Dtype  \n",
            "---  ------       --------------  -----  \n",
            " 0   Temperature  500 non-null    float64\n",
            " 1   Revenue      500 non-null    float64\n",
            "dtypes: float64(2)\n",
            "memory usage: 7.9 KB\n"
          ]
        }
      ],
      "source": [
        "IceCream.info()"
      ]
    },
    {
      "cell_type": "markdown",
      "metadata": {
        "id": "NG33zDJePNCJ"
      },
      "source": [
        "# STEP#3: VISUALIZE DATASET"
      ]
    },
    {
      "cell_type": "code",
      "execution_count": null,
      "metadata": {
        "colab": {
          "base_uri": "https://localhost:8080/",
          "height": 458
        },
        "id": "UKy8qUSQPNCJ",
        "outputId": "68df7782-3807-446d-ad78-b937cf66fccd",
        "scrolled": false
      },
      "outputs": [
        {
          "data": {
            "text/plain": [
              "<seaborn.axisgrid.JointGrid at 0x7fdd0a0a9f10>"
            ]
          },
          "execution_count": 52,
          "metadata": {
            "tags": []
          },
          "output_type": "execute_result"
        },
        {
          "data": {
            "image/png": "[encoded data removed]",
            "text/plain": [
              "<Figure size 432x432 with 3 Axes>"
            ]
          },
          "metadata": {
            "needs_background": "light",
            "tags": []
          },
          "output_type": "display_data"
        }
      ],
      "source": [
        "sns.jointplot(x='Temperature', y='Revenue', data = IceCream)"
      ]
    },
    {
      "cell_type": "code",
      "execution_count": 53,
      "metadata": {
        "colab": {
          "base_uri": "https://localhost:8080/",
          "height": 391
        },
        "id": "3sgbNU-6PNCK",
        "outputId": "da27389c-1167-48d5-c9ff-f7b3801cecee"
      },
      "outputs": [
        {
          "data": {
            "text/plain": [
              "<seaborn.axisgrid.PairGrid at 0x7fdd09af24d0>"
            ]
          },
          "execution_count": 53,
          "metadata": {
            "tags": []
          },
          "output_type": "execute_result"
        },
        {
          "data": {
            "image/png": "[encoded data removed]",
            "text/plain": [
              "<Figure size 360x360 with 6 Axes>"
            ]
          },
          "metadata": {
            "needs_background": "light",
            "tags": []
          },
          "output_type": "display_data"
        }
      ],
      "source": [
        "sns.pairplot(IceCream)"
      ]
    },
    {
      "cell_type": "code",
      "execution_count": 54,
      "metadata": {
        "colab": {
          "base_uri": "https://localhost:8080/",
          "height": 400
        },
        "id": "zcN51bnkPNCL",
        "outputId": "96d839a1-a531-4e4d-b5d6-eee2ebc19841"
      },
      "outputs": [
        {
          "data": {
            "text/plain": [
              "<seaborn.axisgrid.FacetGrid at 0x7fdd098bee10>"
            ]
          },
          "execution_count": 54,
          "metadata": {
            "tags": []
          },
          "output_type": "execute_result"
        },
        {
          "data": {
            "image/png": "[encoded data removed]",
            "text/plain": [
              "<Figure size 360x360 with 1 Axes>"
            ]
          },
          "metadata": {
            "needs_background": "light",
            "tags": []
          },
          "output_type": "display_data"
        }
      ],
      "source": [
        "sns.lmplot(x='Temperature', y='Revenue', data=IceCream)"
      ]
    },
    {
      "cell_type": "markdown",
      "metadata": {
        "id": "e5vVZrdPPNCM"
      },
      "source": [
        "# STEP#4: CREATE TESTING AND TRAINING DATASET"
      ]
    },
    {
      "cell_type": "code",
      "execution_count": 55,
      "metadata": {
        "id": "a_iF4qjzPNCM"
      },
      "outputs": [],
      "source": [
        "y = IceCream['Revenue']"
      ]
    },
    {
      "cell_type": "code",
      "execution_count": 56,
      "metadata": {
        "id": "6zXZfAeePNCM"
      },
      "outputs": [],
      "source": [
        "X = IceCream[['Temperature']]"
      ]
    },
    {
      "cell_type": "code",
      "execution_count": 57,
      "metadata": {
        "colab": {
          "base_uri": "https://localhost:8080/",
          "height": 419
        },
        "id": "z0-e8HQgPNCN",
        "outputId": "115de656-86c4-4df5-ab08-848611cdeed9"
      },
      "outputs": [
        {
          "data": {
            "text/html": [
              "<div>\n",
              "<style scoped>\n",
              "    .dataframe tbody tr th:only-of-type {\n",
              "        vertical-align: middle;\n",
              "    }\n",
              "\n",
              "    .dataframe tbody tr th {\n",
              "        vertical-align: top;\n",
              "    }\n",
              "\n",
              "    .dataframe thead th {\n",
              "        text-align: right;\n",
              "    }\n",
              "</style>\n",
              "<table border=\"1\" class=\"dataframe\">\n",
              "  <thead>\n",
              "    <tr style=\"text-align: right;\">\n",
              "      <th></th>\n",
              "      <th>Temperature</th>\n",
              "    </tr>\n",
              "  </thead>\n",
              "  <tbody>\n",
              "    <tr>\n",
              "      <th>0</th>\n",
              "      <td>24.566884</td>\n",
              "    </tr>\n",
              "    <tr>\n",
              "      <th>1</th>\n",
              "      <td>26.005191</td>\n",
              "    </tr>\n",
              "    <tr>\n",
              "      <th>2</th>\n",
              "      <td>27.790554</td>\n",
              "    </tr>\n",
              "    <tr>\n",
              "      <th>3</th>\n",
              "      <td>20.595335</td>\n",
              "    </tr>\n",
              "    <tr>\n",
              "      <th>4</th>\n",
              "      <td>11.503498</td>\n",
              "    </tr>\n",
              "    <tr>\n",
              "      <th>...</th>\n",
              "      <td>...</td>\n",
              "    </tr>\n",
              "    <tr>\n",
              "      <th>495</th>\n",
              "      <td>22.274899</td>\n",
              "    </tr>\n",
              "    <tr>\n",
              "      <th>496</th>\n",
              "      <td>32.893092</td>\n",
              "    </tr>\n",
              "    <tr>\n",
              "      <th>497</th>\n",
              "      <td>12.588157</td>\n",
              "    </tr>\n",
              "    <tr>\n",
              "      <th>498</th>\n",
              "      <td>22.362402</td>\n",
              "    </tr>\n",
              "    <tr>\n",
              "      <th>499</th>\n",
              "      <td>28.957736</td>\n",
              "    </tr>\n",
              "  </tbody>\n",
              "</table>\n",
              "<p>500 rows × 1 columns</p>\n",
              "</div>"
            ],
            "text/plain": [
              "     Temperature\n",
              "0      24.566884\n",
              "1      26.005191\n",
              "2      27.790554\n",
              "3      20.595335\n",
              "4      11.503498\n",
              "..           ...\n",
              "495    22.274899\n",
              "496    32.893092\n",
              "497    12.588157\n",
              "498    22.362402\n",
              "499    28.957736\n",
              "\n",
              "[500 rows x 1 columns]"
            ]
          },
          "execution_count": 57,
          "metadata": {
            "tags": []
          },
          "output_type": "execute_result"
        }
      ],
      "source": [
        "X"
      ]
    },
    {
      "cell_type": "code",
      "execution_count": 58,
      "metadata": {
        "colab": {
          "base_uri": "https://localhost:8080/"
        },
        "id": "M4dlkgn_PNCN",
        "outputId": "a9427010-436c-4566-d91c-a530718761b0"
      },
      "outputs": [
        {
          "data": {
            "text/plain": [
              "0      534.799028\n",
              "1      625.190122\n",
              "2      660.632289\n",
              "3      487.706960\n",
              "4      316.240194\n",
              "          ...    \n",
              "495    524.746364\n",
              "496    755.818399\n",
              "497    306.090719\n",
              "498    566.217304\n",
              "499    655.660388\n",
              "Name: Revenue, Length: 500, dtype: float64"
            ]
          },
          "execution_count": 58,
          "metadata": {
            "tags": []
          },
          "output_type": "execute_result"
        }
      ],
      "source": [
        "y"
      ]
    },
    {
      "cell_type": "code",
      "execution_count": 59,
      "metadata": {
        "id": "dZ66ApkgPNCN"
      },
      "outputs": [],
      "source": [
        "from sklearn.model_selection import train_test_split"
      ]
    },
    {
      "cell_type": "code",
      "execution_count": 126,
      "metadata": {
        "id": "VoSceaapPNCN"
      },
      "outputs": [],
      "source": [
        "X_train, X_test, y_train, y_test = train_test_split(X, y, test_size=0.25)"
      ]
    },
    {
      "cell_type": "markdown",
      "metadata": {
        "id": "rjXTP_tqPNCO"
      },
      "source": [
        "# STEP#5: TRAIN THE MODEL"
      ]
    },
    {
      "cell_type": "code",
      "execution_count": 127,
      "metadata": {
        "colab": {
          "base_uri": "https://localhost:8080/"
        },
        "id": "pqnX9IwPPNCO",
        "outputId": "aa1fd02c-85c0-45c4-9c7e-3163c91677b5"
      },
      "outputs": [
        {
          "data": {
            "text/plain": [
              "(375, 1)"
            ]
          },
          "execution_count": 127,
          "metadata": {
            "tags": []
          },
          "output_type": "execute_result"
        }
      ],
      "source": [
        "X_train.shape"
      ]
    },
    {
      "cell_type": "code",
      "execution_count": 128,
      "metadata": {
        "id": "_f6eEHEGPNCO"
      },
      "outputs": [],
      "source": [
        "from sklearn.linear_model import LinearRegression"
      ]
    },
    {
      "cell_type": "code",
      "execution_count": 129,
      "metadata": {
        "id": "9WTzcPfpPNCO"
      },
      "outputs": [],
      "source": [
        "regressor = LinearRegression(fit_intercept = True)"
      ]
    },
    {
      "cell_type": "code",
      "execution_count": 130,
      "metadata": {
        "colab": {
          "base_uri": "https://localhost:8080/"
        },
        "id": "sygfWj-oPNCP",
        "outputId": "06d3927e-e15e-45ce-d971-d961d577aebe"
      },
      "outputs": [
        {
          "data": {
            "text/plain": [
              "LinearRegression(copy_X=True, fit_intercept=True, n_jobs=None, normalize=False)"
            ]
          },
          "execution_count": 130,
          "metadata": {
            "tags": []
          },
          "output_type": "execute_result"
        }
      ],
      "source": [
        "regressor.fit(X_train,y_train)"
      ]
    },
    {
      "cell_type": "code",
      "execution_count": 131,
      "metadata": {
        "colab": {
          "base_uri": "https://localhost:8080/"
        },
        "id": "UjIQIIFnPNCP",
        "outputId": "c9443dbc-04d8-4c5b-ba75-80894a902f94"
      },
      "outputs": [
        {
          "name": "stdout",
          "output_type": "stream",
          "text": [
            "Linear Model Coefficient (m):  [21.37011027]\n",
            "Linear Model Coefficient (b):  46.40805140344793\n"
          ]
        }
      ],
      "source": [
        "print('Linear Model Coefficient (m): ', regressor.coef_)\n",
        "print('Linear Model Coefficient (b): ', regressor.intercept_)"
      ]
    },
    {
      "cell_type": "markdown",
      "metadata": {
        "id": "1VIw47_pPNCQ"
      },
      "source": [
        "# STEP#6: TEST THE MODEL "
      ]
    },
    {
      "cell_type": "code",
      "execution_count": 145,
      "metadata": {
        "colab": {
          "base_uri": "https://localhost:8080/"
        },
        "id": "O7TCyat7h9bp",
        "outputId": "fd5e99b9-737d-4a75-9b8a-a0409003eb71"
      },
      "outputs": [
        {
          "name": "stdout",
          "output_type": "stream",
          "text": [
            "0.9786674627348838\n"
          ]
        }
      ],
      "source": [
        "from sklearn.model_selection import cross_val_score\n",
        "cv_score = np.mean(cross_val_score(regressor, X_train, y_train, cv=3))\n",
        "print (cv_score)"
      ]
    },
    {
      "cell_type": "code",
      "execution_count": 132,
      "metadata": {
        "colab": {
          "base_uri": "https://localhost:8080/"
        },
        "id": "HvI5MdM7PNCQ",
        "outputId": "28b627d5-a1cd-4c8f-ad88-0140a122d89e"
      },
      "outputs": [
        {
          "data": {
            "text/plain": [
              "array([ 421.9713831 ,  218.07741604,  510.22391769,  450.0287785 ,\n",
              "        795.07687623,  186.22230549,  308.63996394,  571.8116243 ,\n",
              "        658.6444416 ,  482.59403903,  799.00435502,  384.97517873,\n",
              "        609.7352844 ,  580.41545764,  558.42118608,  519.81131442,\n",
              "        453.86320628,  718.95158538,  479.09606463,  563.22145735,\n",
              "        525.05529565,  655.28017911,  588.79079514,  285.49164829,\n",
              "        642.35868552,  554.19255713,  571.40508039,  589.68252561,\n",
              "        347.93306324,  245.34979337,  522.631349  ,  694.57058364,\n",
              "        430.92087755,  570.44261999,  541.19025396,  664.00833521,\n",
              "        743.77582841,  400.20823953,  160.49051888,  787.48172854,\n",
              "        493.0159219 ,  332.0048975 ,  583.14123487,  409.65481215,\n",
              "        591.27372008,  650.38786506,  564.42748401,  613.36175194,\n",
              "        796.92955986,  504.25321359,  493.7829255 ,  723.16706679,\n",
              "        626.13915243,  322.09670357,  479.02776597,  394.74351939,\n",
              "        451.42550797,  458.16275044,  545.37948668,  758.3532241 ,\n",
              "        676.05240926,  312.10561456,  369.15915798,  605.6394568 ,\n",
              "        596.16418605,  583.05566488,  656.48169027,  444.61682394,\n",
              "        442.8586338 ,  183.04500241,  911.34166315,  441.22157586,\n",
              "        477.08726208,  440.47249217,  447.60050506,  890.8085265 ,\n",
              "        681.18971816,  294.19667467,  450.48453885,  417.40880814,\n",
              "        379.52663981,  561.71826948,  762.61746271,  312.30886269,\n",
              "        284.31520043,  712.30133314,  510.07069015, 1008.06301344,\n",
              "        627.37181544,  467.99924273,  756.98342782,  514.46730505,\n",
              "        626.16657434,  473.44413954,  569.38662518,   46.4080514 ,\n",
              "        807.80210673,  661.72102542,  803.86191251,  660.36949737,\n",
              "        858.44306581,  675.34275876,  438.48160418,  326.62260165,\n",
              "        508.22989151,  662.50318193,  364.09832181,  638.81828076,\n",
              "        403.37120669,   52.11446275,  191.1949574 ,  483.93101532,\n",
              "        550.55092237,  396.12873036,  386.54921151,  791.3850653 ,\n",
              "        136.94177502,  449.8833408 ,  709.52968476,  411.63701041,\n",
              "        590.4448218 ,  451.97642044,  424.44597776,  827.89407262,\n",
              "        315.0626869 ])"
            ]
          },
          "execution_count": 132,
          "metadata": {
            "tags": []
          },
          "output_type": "execute_result"
        }
      ],
      "source": [
        "y_predict = regressor.predict(X_test)\n",
        "y_predict"
      ]
    },
    {
      "cell_type": "code",
      "execution_count": 137,
      "metadata": {
        "colab": {
          "base_uri": "https://localhost:8080/"
        },
        "id": "GgNa1r1oPNCQ",
        "outputId": "064fc9a4-b349-4e42-9e60-e320d72377fd"
      },
      "outputs": [
        {
          "name": "stdout",
          "output_type": "stream",
          "text": [
            "(125,)\n",
            "(125,)\n",
            "(125, 1)\n"
          ]
        },
        {
          "data": {
            "text/plain": [
              "393    17.574235\n",
              "343     8.033153\n",
              "256    21.703953\n",
              "473    18.887162\n",
              "277    35.033456\n",
              "         ...    \n",
              "20     25.457836\n",
              "25     18.978300\n",
              "114    17.690032\n",
              "57     36.569115\n",
              "124    12.571514\n",
              "Name: Temperature, Length: 125, dtype: float64"
            ]
          },
          "execution_count": 137,
          "metadata": {
            "tags": []
          },
          "output_type": "execute_result"
        }
      ],
      "source": [
        "# y_test = y_test.to_numpy()\n",
        "print(y_predict.shape)\n",
        "print(y_test.shape)\n",
        "print (X_test.shape)\n",
        "X_test.Temperature"
      ]
    },
    {
      "cell_type": "code",
      "execution_count": 138,
      "metadata": {
        "colab": {
          "base_uri": "https://localhost:8080/",
          "height": 80
        },
        "id": "JPytlBpkbBL3",
        "outputId": "6cc3f169-7b8b-4560-85fa-05070a797993"
      },
      "outputs": [
        {
          "data": {
            "text/html": [
              "<div>\n",
              "<style scoped>\n",
              "    .dataframe tbody tr th:only-of-type {\n",
              "        vertical-align: middle;\n",
              "    }\n",
              "\n",
              "    .dataframe tbody tr th {\n",
              "        vertical-align: top;\n",
              "    }\n",
              "\n",
              "    .dataframe thead th {\n",
              "        text-align: right;\n",
              "    }\n",
              "</style>\n",
              "<table border=\"1\" class=\"dataframe\">\n",
              "  <thead>\n",
              "    <tr style=\"text-align: right;\">\n",
              "      <th></th>\n",
              "      <th>x_test</th>\n",
              "      <th>y_test</th>\n",
              "      <th>y_predict</th>\n",
              "    </tr>\n",
              "  </thead>\n",
              "  <tbody>\n",
              "    <tr>\n",
              "      <th>435</th>\n",
              "      <td>15.916678</td>\n",
              "      <td>381.043377</td>\n",
              "      <td>386.549212</td>\n",
              "    </tr>\n",
              "  </tbody>\n",
              "</table>\n",
              "</div>"
            ],
            "text/plain": [
              "        x_test      y_test   y_predict\n",
              "435  15.916678  381.043377  386.549212"
            ]
          },
          "execution_count": 138,
          "metadata": {
            "tags": []
          },
          "output_type": "execute_result"
        }
      ],
      "source": [
        "result = {'x_test' : X_test.Temperature,'y_test' : y_test,\n",
        "             'y_predict' : y_predict}   \n",
        "output = pd.DataFrame(result)\n",
        "\n",
        "output.sample()"
      ]
    },
    {
      "cell_type": "code",
      "execution_count": 115,
      "metadata": {
        "colab": {
          "base_uri": "https://localhost:8080/",
          "height": 312
        },
        "id": "VgL5y9J3PNCR",
        "outputId": "e7f709ce-f9b7-48bb-9e9d-4fd80e13518e"
      },
      "outputs": [
        {
          "data": {
            "text/plain": [
              "Text(0.5, 1.0, 'Revenue Generated vs. Temperature @Ice Cream Stand(Training dataset)')"
            ]
          },
          "execution_count": 115,
          "metadata": {
            "tags": []
          },
          "output_type": "execute_result"
        },
        {
          "data": {
            "image/png": "[encoded data removed]",
            "text/plain": [
              "<Figure size 432x288 with 1 Axes>"
            ]
          },
          "metadata": {
            "needs_background": "light",
            "tags": []
          },
          "output_type": "display_data"
        }
      ],
      "source": [
        "plt.scatter(X_train, y_train, color = 'gray')\n",
        "plt.plot(X_train, regressor.predict(X_train), color = 'red')\n",
        "plt.ylabel('Revenue [dollars]')\n",
        "plt.xlabel('Temperature [degC]')\n",
        "plt.title('Revenue Generated vs. Temperature @Ice Cream Stand(Training dataset)')"
      ]
    },
    {
      "cell_type": "code",
      "execution_count": 116,
      "metadata": {
        "colab": {
          "base_uri": "https://localhost:8080/",
          "height": 312
        },
        "id": "b1KfpQVqPNCR",
        "outputId": "5f80b173-591b-4c01-b2ea-e14f7a2db7f9"
      },
      "outputs": [
        {
          "data": {
            "text/plain": [
              "Text(0.5, 1.0, 'Revenue Generated vs. Temperature [degC] @Ice Cream Stand(Test dataset)')"
            ]
          },
          "execution_count": 116,
          "metadata": {
            "tags": []
          },
          "output_type": "execute_result"
        },
        {
          "data": {
            "image/png": "[encoded data removed]",
            "text/plain": [
              "<Figure size 432x288 with 1 Axes>"
            ]
          },
          "metadata": {
            "needs_background": "light",
            "tags": []
          },
          "output_type": "display_data"
        }
      ],
      "source": [
        "# VISUALIZE TEST SET RESULTS\n",
        "plt.scatter(X_test, y_test, color = 'gray')\n",
        "plt.plot(X_test, regressor.predict(X_test), color = 'red')\n",
        "plt.ylabel('Revenue [dollars]')\n",
        "plt.xlabel('Temperature [degC]')\n",
        "plt.title('Revenue Generated vs. Temperature [degC] @Ice Cream Stand(Test dataset)')"
      ]
    },
    {
      "cell_type": "code",
      "execution_count": 139,
      "metadata": {
        "colab": {
          "base_uri": "https://localhost:8080/"
        },
        "id": "JBAU2iLlPNCR",
        "outputId": "ef93764d-9bd2-442c-eeff-62119913a798"
      },
      "outputs": [
        {
          "data": {
            "text/plain": [
              "array([386.54921536])"
            ]
          },
          "execution_count": 139,
          "metadata": {
            "tags": []
          },
          "output_type": "execute_result"
        }
      ],
      "source": [
        "value = [[15.916678]] \n",
        "value_predict = regressor.predict(value)\n",
        "value_predict"
      ]
    },
    {
      "cell_type": "markdown",
      "metadata": {
        "id": "rSE7sjBiPNCS"
      },
      "source": [
        "# EXCELLENT JOB! NOW YOU BECAME EXPERT IN SIMPLE LINEAR REGRESSION"
      ]
    }
  ],
  "metadata": {
    "colab": {
      "name": "ice_cream_business_model.ipynb",
      "provenance": []
    },
    "kernelspec": {
      "display_name": ".venv",
      "language": "python",
      "name": "python3"
    },
    "language_info": {
      "codemirror_mode": {
        "name": "ipython",
        "version": 3
      },
      "file_extension": ".py",
      "mimetype": "text/x-python",
      "name": "python",
      "nbconvert_exporter": "python",
      "pygments_lexer": "ipython3",
      "version": "3.13.2"
    }
  },
  "nbformat": 4,
  "nbformat_minor": 0
}
